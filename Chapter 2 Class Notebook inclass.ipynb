{
 "cells": [
  {
   "cell_type": "markdown",
   "id": "81b2bbc8",
   "metadata": {
    "slideshow": {
     "slide_type": "slide"
    }
   },
   "source": [
    "# Chapter 2: Variables and Assignment Statements"
   ]
  },
  {
   "cell_type": "markdown",
   "id": "9f73fa21",
   "metadata": {
    "slideshow": {
     "slide_type": "slide"
    }
   },
   "source": [
    "####  Statement creates `x` and uses the **assignment symbol (`=`)** to give `x` a value. "
   ]
  },
  {
   "cell_type": "code",
   "execution_count": 5,
   "id": "dd8f9e84",
   "metadata": {},
   "outputs": [],
   "source": [
    "x = 5.4"
   ]
  },
  {
   "cell_type": "code",
   "execution_count": 2,
   "id": "184edbfb",
   "metadata": {},
   "outputs": [],
   "source": [
    "y = 7"
   ]
  },
  {
   "cell_type": "markdown",
   "id": "13acb8f3",
   "metadata": {
    "slideshow": {
     "slide_type": "slide"
    }
   },
   "source": [
    "## 2.1 Calculations in Assignment Statements\n",
    "* **assignment symbol (`=`)** is not an operator"
   ]
  },
  {
   "cell_type": "code",
   "execution_count": 3,
   "id": "d61ad05d",
   "metadata": {},
   "outputs": [
    {
     "data": {
      "text/plain": [
       "12"
      ]
     },
     "execution_count": 3,
     "metadata": {},
     "output_type": "execute_result"
    }
   ],
   "source": [
    "x + y"
   ]
  },
  {
   "cell_type": "markdown",
   "id": "24adc888",
   "metadata": {
    "slideshow": {
     "slide_type": "slide"
    }
   },
   "source": [
    "## 2.2 Variable Names\n",
    "* A variable name is an **identifier**. \n",
    "* May consist of letters, digits and underscores (`_`) but may not begin with a digit. \n",
    "* Python is _case sensitive_. \n",
    "* Each value in Python has a type that indicates the kind of data the value represents. \n",
    "* You can view a value’s type, with the **`type` built-in function**."
   ]
  },
  {
   "cell_type": "markdown",
   "id": "58418864",
   "metadata": {
    "slideshow": {
     "slide_type": "slide"
    }
   },
   "source": [
    "### Types \n",
    "* A function performs a task when you call it by writing its name, followed by **parentheses, `()`**. \n",
    "* The parentheses contain the function’s **argument**—the data that the type function needs to perform its task."
   ]
  },
  {
   "cell_type": "code",
   "execution_count": 4,
   "id": "93d455f0",
   "metadata": {},
   "outputs": [
    {
     "data": {
      "text/plain": [
       "int"
      ]
     },
     "execution_count": 4,
     "metadata": {},
     "output_type": "execute_result"
    }
   ],
   "source": [
    "type(x)"
   ]
  },
  {
   "cell_type": "code",
   "execution_count": 6,
   "id": "78f17e7b",
   "metadata": {},
   "outputs": [
    {
     "data": {
      "text/plain": [
       "float"
      ]
     },
     "execution_count": 6,
     "metadata": {},
     "output_type": "execute_result"
    }
   ],
   "source": [
    "type(x)"
   ]
  },
  {
   "cell_type": "markdown",
   "id": "eac34dba",
   "metadata": {},
   "source": [
    "## 2.3 Arithmetic Operator\n",
    "| Python operation | Arithmetic operator | Python expression\n",
    "| :-------- | :-------- | :-------- \n",
    "| Addition | `+`  | `f + 7` \n",
    "| Subtraction | `–` | `p - c` \n",
    "| Multiplication | `*` | `b * m` \n",
    "| Exponentiation | `**` |  `x ** y` \n",
    "| True division | `/` | `x / y` \n",
    "| Floor division | `//` | `x // y` \n",
    "| Remainder (modulo) | `%` | `r % s` \n",
    "\n",
    "* [All operators and their precedence](https://docs.python.org/3/reference/expressions.html#operator-precedence)"
   ]
  },
  {
   "cell_type": "markdown",
   "id": "244fdcc7",
   "metadata": {},
   "source": [
    "#### 2.3.1 Exponentiation (`**`)\n",
    "* The **exponentiation (&ast;&ast;) operator** raises one value to the power of another."
   ]
  },
  {
   "cell_type": "code",
   "execution_count": 7,
   "id": "92bf57cc",
   "metadata": {},
   "outputs": [
    {
     "data": {
      "text/plain": [
       "8"
      ]
     },
     "execution_count": 7,
     "metadata": {},
     "output_type": "execute_result"
    }
   ],
   "source": [
    "2**3"
   ]
  },
  {
   "cell_type": "code",
   "execution_count": 8,
   "id": "8ab1cf17",
   "metadata": {},
   "outputs": [
    {
     "data": {
      "text/plain": [
       "1024"
      ]
     },
     "execution_count": 8,
     "metadata": {},
     "output_type": "execute_result"
    }
   ],
   "source": [
    "2**10"
   ]
  },
  {
   "cell_type": "code",
   "execution_count": 9,
   "id": "ef16fca6",
   "metadata": {},
   "outputs": [
    {
     "data": {
      "text/plain": [
       "2.0"
      ]
     },
     "execution_count": 9,
     "metadata": {},
     "output_type": "execute_result"
    }
   ],
   "source": [
    "4**(1/2)"
   ]
  },
  {
   "cell_type": "code",
   "execution_count": 10,
   "id": "66166ad6",
   "metadata": {},
   "outputs": [
    {
     "data": {
      "text/plain": [
       "1.5874010519681994"
      ]
     },
     "execution_count": 10,
     "metadata": {},
     "output_type": "execute_result"
    }
   ],
   "source": [
    "4**(1/3)"
   ]
  },
  {
   "cell_type": "markdown",
   "id": "94936661",
   "metadata": {},
   "source": [
    "#### 2.3.2 True Division (`/`) vs. Floor Division (`//`)\n",
    "* **True division (`/`)** divides a numerator by a denominator and yields a floating-point number.\n",
    "* **Floor division (`//`)** divides a numerator by a denominator, yielding the `highest integer` that’s not greater than the result.Truncates (discards) the fractional part. "
   ]
  },
  {
   "cell_type": "code",
   "execution_count": 11,
   "id": "a706f67d",
   "metadata": {},
   "outputs": [
    {
     "data": {
      "text/plain": [
       "2.0"
      ]
     },
     "execution_count": 11,
     "metadata": {},
     "output_type": "execute_result"
    }
   ],
   "source": [
    "4/2"
   ]
  },
  {
   "cell_type": "code",
   "execution_count": 12,
   "id": "aac3713b",
   "metadata": {},
   "outputs": [
    {
     "data": {
      "text/plain": [
       "2.5"
      ]
     },
     "execution_count": 12,
     "metadata": {},
     "output_type": "execute_result"
    }
   ],
   "source": [
    "5/2"
   ]
  },
  {
   "cell_type": "code",
   "execution_count": 13,
   "id": "5d7f3442",
   "metadata": {},
   "outputs": [
    {
     "data": {
      "text/plain": [
       "2"
      ]
     },
     "execution_count": 13,
     "metadata": {},
     "output_type": "execute_result"
    }
   ],
   "source": [
    "5//2"
   ]
  },
  {
   "cell_type": "code",
   "execution_count": 14,
   "id": "ead102ac",
   "metadata": {},
   "outputs": [
    {
     "data": {
      "text/plain": [
       "-2.5"
      ]
     },
     "execution_count": 14,
     "metadata": {},
     "output_type": "execute_result"
    }
   ],
   "source": [
    "-5/2"
   ]
  },
  {
   "cell_type": "code",
   "execution_count": 15,
   "id": "98d1268f",
   "metadata": {},
   "outputs": [
    {
     "data": {
      "text/plain": [
       "-3"
      ]
     },
     "execution_count": 15,
     "metadata": {},
     "output_type": "execute_result"
    }
   ],
   "source": [
    "-5//2"
   ]
  },
  {
   "cell_type": "markdown",
   "id": "b4a2f0d4",
   "metadata": {},
   "source": [
    "##### 2.3.3 Exceptions and Tracebacks\n",
    "* Dividing by zero with `/` or `//` is not allowed and results in an **exception**.\n",
    "* An exception occurs if you try to use a variable that you have not yet created. "
   ]
  },
  {
   "cell_type": "code",
   "execution_count": 16,
   "id": "cc73e0c5",
   "metadata": {},
   "outputs": [
    {
     "ename": "ZeroDivisionError",
     "evalue": "division by zero",
     "output_type": "error",
     "traceback": [
      "\u001b[0;31m---------------------------------------------------------------------------\u001b[0m",
      "\u001b[0;31mZeroDivisionError\u001b[0m                         Traceback (most recent call last)",
      "\u001b[0;32m<ipython-input-16-0106664d39e8>\u001b[0m in \u001b[0;36m<module>\u001b[0;34m\u001b[0m\n\u001b[0;32m----> 1\u001b[0;31m \u001b[0;36m5\u001b[0m\u001b[0;34m/\u001b[0m\u001b[0;36m0\u001b[0m\u001b[0;34m\u001b[0m\u001b[0;34m\u001b[0m\u001b[0m\n\u001b[0m",
      "\u001b[0;31mZeroDivisionError\u001b[0m: division by zero"
     ]
    }
   ],
   "source": [
    "5/0"
   ]
  },
  {
   "cell_type": "code",
   "execution_count": 17,
   "id": "021d4c23",
   "metadata": {},
   "outputs": [
    {
     "ename": "ZeroDivisionError",
     "evalue": "integer division or modulo by zero",
     "output_type": "error",
     "traceback": [
      "\u001b[0;31m---------------------------------------------------------------------------\u001b[0m",
      "\u001b[0;31mZeroDivisionError\u001b[0m                         Traceback (most recent call last)",
      "\u001b[0;32m<ipython-input-17-83598ca529be>\u001b[0m in \u001b[0;36m<module>\u001b[0;34m\u001b[0m\n\u001b[0;32m----> 1\u001b[0;31m \u001b[0;36m5\u001b[0m\u001b[0;34m//\u001b[0m\u001b[0;36m0\u001b[0m\u001b[0;34m\u001b[0m\u001b[0;34m\u001b[0m\u001b[0m\n\u001b[0m",
      "\u001b[0;31mZeroDivisionError\u001b[0m: integer division or modulo by zero"
     ]
    }
   ],
   "source": [
    "5//0"
   ]
  },
  {
   "cell_type": "markdown",
   "id": "4c97ede0",
   "metadata": {},
   "source": [
    "#### 2.3.4 Grouping Expressions with Parentheses\n",
    "* Parentheses group Python expressions, as in algebraic expressions.\n",
    "* Expressions in parentheses evaluate first"
   ]
  },
  {
   "cell_type": "code",
   "execution_count": 18,
   "id": "1b7ab500",
   "metadata": {},
   "outputs": [
    {
     "data": {
      "text/plain": [
       "70"
      ]
     },
     "execution_count": 18,
     "metadata": {},
     "output_type": "execute_result"
    }
   ],
   "source": [
    "10*(5+2)"
   ]
  },
  {
   "cell_type": "code",
   "execution_count": 19,
   "id": "dcf7469b",
   "metadata": {},
   "outputs": [
    {
     "data": {
      "text/plain": [
       "52"
      ]
     },
     "execution_count": 19,
     "metadata": {},
     "output_type": "execute_result"
    }
   ],
   "source": [
    "10*5+2"
   ]
  },
  {
   "cell_type": "markdown",
   "id": "24baedc2",
   "metadata": {},
   "source": [
    "## 2.4 Function `print` and an Intro to Single-and-Double-Quoted Strings\n",
    "* The built-in **`print` function** displays its argument(s) as a line of text "
   ]
  },
  {
   "cell_type": "code",
   "execution_count": 20,
   "id": "254454ba",
   "metadata": {},
   "outputs": [
    {
     "name": "stdout",
     "output_type": "stream",
     "text": [
      "Hello\n"
     ]
    }
   ],
   "source": [
    "print(\"Hello\")"
   ]
  },
  {
   "cell_type": "code",
   "execution_count": 21,
   "id": "4b24f182",
   "metadata": {},
   "outputs": [
    {
     "name": "stdout",
     "output_type": "stream",
     "text": [
      "Hello\n"
     ]
    }
   ],
   "source": [
    "print('Hello')"
   ]
  },
  {
   "cell_type": "code",
   "execution_count": 22,
   "id": "a9cc58fa",
   "metadata": {},
   "outputs": [
    {
     "name": "stdout",
     "output_type": "stream",
     "text": [
      "3\n"
     ]
    }
   ],
   "source": [
    "print(3)"
   ]
  },
  {
   "cell_type": "markdown",
   "id": "cd9e9833",
   "metadata": {},
   "source": [
    "#### 2.4.1 Printing Many Lines of Text with One Statement\n",
    "* A backslash (`\\`) in a string is the **escape character**. \n",
    "* The backslash and the character immediately following it form an **escape sequence**. \n",
    "* `\\n` represents the **newline character** escape sequence, which tells `print` to move the output cursor to the next line.\n",
    "\n",
    "#### 2.4.2 Other Escape Sequences\n",
    "| Escape sequence | Description\n",
    "| :------- | :------------\n",
    "| `\\n` | Insert a newline character in a string. When the string is displayed, for each newline, move the screen cursor to the beginning of the next line. \n",
    "| `\\t` | Insert a horizontal tab. When the string is displayed, for each tab, move the screen cursor to the next tab stop. \n",
    "| `\\\\` | Insert a backslash character in a string.\n",
    "| `\\\"` | Insert a double quote character in a string.\n",
    "| `\\'` | Insert a single quote character in a string."
   ]
  },
  {
   "cell_type": "code",
   "execution_count": 23,
   "id": "50848b82",
   "metadata": {},
   "outputs": [
    {
     "name": "stdout",
     "output_type": "stream",
     "text": [
      "Hello class, 'Hi'\n"
     ]
    }
   ],
   "source": [
    "print(\"Hello class, 'Hi'\")"
   ]
  },
  {
   "cell_type": "markdown",
   "id": "fa8661d0",
   "metadata": {},
   "source": [
    "#### 2.4.3 Printing the Value of an Expression"
   ]
  },
  {
   "cell_type": "code",
   "execution_count": null,
   "id": "4df94718",
   "metadata": {},
   "outputs": [],
   "source": []
  },
  {
   "cell_type": "markdown",
   "id": "fe885b94",
   "metadata": {},
   "source": [
    "#### 2.4.5 Including Quotes in Strings \n",
    "* A string delimited by single quotes may include double-quote characters, but not single quotes, unless you use the `\\'` escape sequence."
   ]
  },
  {
   "cell_type": "code",
   "execution_count": null,
   "id": "dfe53952",
   "metadata": {},
   "outputs": [],
   "source": []
  },
  {
   "cell_type": "markdown",
   "id": "a46e52e3",
   "metadata": {
    "slideshow": {
     "slide_type": "slide"
    }
   },
   "source": [
    "## 2.5 Getting Input from the User\n",
    "* Built-in **`input` function** requests and obtains user input."
   ]
  },
  {
   "cell_type": "code",
   "execution_count": 24,
   "id": "261c7cb3",
   "metadata": {
    "scrolled": true
   },
   "outputs": [
    {
     "name": "stdout",
     "output_type": "stream",
     "text": [
      "Insert the first value: 34\n"
     ]
    }
   ],
   "source": [
    "value = input(\"Insert the first value: \")"
   ]
  },
  {
   "cell_type": "code",
   "execution_count": 25,
   "id": "52f5fc74",
   "metadata": {},
   "outputs": [
    {
     "data": {
      "text/plain": [
       "str"
      ]
     },
     "execution_count": 25,
     "metadata": {},
     "output_type": "execute_result"
    }
   ],
   "source": [
    "type(value)"
   ]
  },
  {
   "cell_type": "code",
   "execution_count": 26,
   "id": "c5085ff4",
   "metadata": {},
   "outputs": [
    {
     "name": "stdout",
     "output_type": "stream",
     "text": [
      "Inster the second value: 63\n"
     ]
    }
   ],
   "source": [
    "value2 = input(\"Inster the second value: \")"
   ]
  },
  {
   "cell_type": "code",
   "execution_count": 27,
   "id": "eb1d62fc",
   "metadata": {},
   "outputs": [
    {
     "data": {
      "text/plain": [
       "'3463'"
      ]
     },
     "execution_count": 27,
     "metadata": {},
     "output_type": "execute_result"
    }
   ],
   "source": [
    "value + value2"
   ]
  },
  {
   "cell_type": "code",
   "execution_count": 28,
   "id": "443727f5",
   "metadata": {},
   "outputs": [],
   "source": [
    "value1 = int(value)"
   ]
  },
  {
   "cell_type": "code",
   "execution_count": 29,
   "id": "99e7aaad",
   "metadata": {},
   "outputs": [
    {
     "data": {
      "text/plain": [
       "34"
      ]
     },
     "execution_count": 29,
     "metadata": {},
     "output_type": "execute_result"
    }
   ],
   "source": [
    "value1"
   ]
  },
  {
   "cell_type": "code",
   "execution_count": 30,
   "id": "02171582",
   "metadata": {
    "scrolled": true
   },
   "outputs": [
    {
     "data": {
      "text/plain": [
       "int"
      ]
     },
     "execution_count": 30,
     "metadata": {},
     "output_type": "execute_result"
    }
   ],
   "source": [
    "type(value1)"
   ]
  },
  {
   "cell_type": "code",
   "execution_count": 32,
   "id": "2fb7d3cb",
   "metadata": {},
   "outputs": [
    {
     "name": "stdout",
     "output_type": "stream",
     "text": [
      "Insert the value: 44\n"
     ]
    }
   ],
   "source": [
    "value3 = int(input(\"Insert the value: \"))"
   ]
  },
  {
   "cell_type": "code",
   "execution_count": 33,
   "id": "90016a19",
   "metadata": {},
   "outputs": [
    {
     "data": {
      "text/plain": [
       "int"
      ]
     },
     "execution_count": 33,
     "metadata": {},
     "output_type": "execute_result"
    }
   ],
   "source": [
    "type(value3)"
   ]
  },
  {
   "cell_type": "markdown",
   "id": "b6aa6e82",
   "metadata": {
    "slideshow": {
     "slide_type": "slide"
    }
   },
   "source": [
    "### 2.5.1 Function `input` Always Returns a String"
   ]
  },
  {
   "cell_type": "markdown",
   "id": "7cb3b0d2",
   "metadata": {},
   "source": [
    "* Python “adds” the _string_ values `'7'` and `'3'`, producing the _string_ `'73'`. \n",
    "* Known as **string concatenation**. "
   ]
  },
  {
   "cell_type": "code",
   "execution_count": null,
   "id": "359df4cd",
   "metadata": {},
   "outputs": [],
   "source": []
  },
  {
   "cell_type": "markdown",
   "id": "a57e281a",
   "metadata": {},
   "source": [
    "### 2.5.2 Data Types\n",
    "* `float` (floating point) - used for real numbers.\n",
    "* `int` (integer) - used for integers.\n",
    "* `str` (string)  - used for texts\n",
    "* `bool` (boolean) - used for truthy values. Useful to perform a filtering operation on a data.\n",
    "* `list` - used to store a collection of values.\n",
    "* `dict` (dictionary) - used to store a key-values pairs."
   ]
  },
  {
   "cell_type": "markdown",
   "id": "22371f59",
   "metadata": {
    "slideshow": {
     "slide_type": "slide"
    }
   },
   "source": [
    "### 2.5.3 Getting an Integer from the User\n",
    "* If you need an integer, convert the string to an integer using the built-in **`int` function**. "
   ]
  },
  {
   "cell_type": "code",
   "execution_count": null,
   "id": "22dd3c38",
   "metadata": {},
   "outputs": [],
   "source": []
  },
  {
   "cell_type": "code",
   "execution_count": null,
   "id": "18449ebb",
   "metadata": {},
   "outputs": [],
   "source": []
  },
  {
   "cell_type": "markdown",
   "id": "412877c1",
   "metadata": {},
   "source": [
    "## 2.6 Decision Making: The if Statement and Comparison Operators\n",
    "* A **condition** is a Boolean expression with the value **`True`** or **`False`**. \n",
    "\n",
    "Algebraic operator | Python operator | Sample condition | Meaning \n",
    ":---- | :---- | :---- | :----\n",
    "&gt;  | `>` | `x > y` | `x` is greater than `y`\n",
    "&lt;  | `<` | `x < y` | `x` is less than `y`\n",
    "&ge; | `>=` | `x >= y` | `x` is greater than or equal to `y`\n",
    "&le; | `<=` | `x <= y` | `x` is less than or equal to `y`\n",
    "= | `==` | `x == y` | `x` is equal to `y`\n",
    "&ne; | `!=` | `x != y` | `x` is not equal to `y`\n",
    "\n",
    "* Operators `>`, `<`, `>=` and `<=` have the same precedence. \n",
    "* Operators `==` and `!=` have the same precedence, which is lower than `>`, `<`, `>=` and `<=`. "
   ]
  },
  {
   "cell_type": "code",
   "execution_count": 34,
   "id": "f07f37b3",
   "metadata": {},
   "outputs": [
    {
     "data": {
      "text/plain": [
       "True"
      ]
     },
     "execution_count": 34,
     "metadata": {},
     "output_type": "execute_result"
    }
   ],
   "source": [
    "3>=2"
   ]
  },
  {
   "cell_type": "code",
   "execution_count": 35,
   "id": "7060f9c6",
   "metadata": {},
   "outputs": [
    {
     "data": {
      "text/plain": [
       "False"
      ]
     },
     "execution_count": 35,
     "metadata": {},
     "output_type": "execute_result"
    }
   ],
   "source": [
    "3<2"
   ]
  },
  {
   "cell_type": "code",
   "execution_count": 36,
   "id": "1cebe8bd",
   "metadata": {},
   "outputs": [
    {
     "data": {
      "text/plain": [
       "True"
      ]
     },
     "execution_count": 36,
     "metadata": {},
     "output_type": "execute_result"
    }
   ],
   "source": [
    "3!=2"
   ]
  },
  {
   "cell_type": "markdown",
   "id": "6bbdc657",
   "metadata": {},
   "source": [
    "### 2.6.1 Making Decisions with the if Statement: Introducing Scripts\n",
    "* The **`if` statement** uses a condition to decide whether to execute a statement (or a group of statements). \n",
    "* We’ll read two integers from the user and compare them using six consecutive `if` statements, one for each comparison operator. \n",
    "\n",
    "* Each `if` statement consists of the keyword `if`, the condition to test, and a colon (`:`) followed by an indented body called a **suite**. \n",
    "* Each suite must contain one or more statements. "
   ]
  },
  {
   "cell_type": "code",
   "execution_count": 37,
   "id": "388a35b3",
   "metadata": {},
   "outputs": [
    {
     "name": "stdout",
     "output_type": "stream",
     "text": [
      "Enter first integer: 2\n",
      "Enter second integer: 7\n",
      "2 is not equal to 7\n",
      "2 is less than or equal to 7\n",
      "2 is less than 7\n"
     ]
    }
   ],
   "source": [
    "# read first integer\n",
    "number1 = int(input('Enter first integer: '))\n",
    "\n",
    "# read second integer\n",
    "number2 = int(input('Enter second integer: '))\n",
    "\n",
    "if number1 == number2:\n",
    "    print(number1, 'is equal to', number2)\n",
    "\n",
    "if number1 != number2:\n",
    "    print(number1, 'is not equal to', number2)\n",
    "\n",
    "# Test other Conditions\n",
    "if number1 <= number2:\n",
    "    print(number1, 'is less than or equal to', number2)\n",
    "\n",
    "if number1 < number2:\n",
    "    print(number1, 'is less than', number2)"
   ]
  },
  {
   "cell_type": "code",
   "execution_count": 38,
   "id": "9e8b80ee",
   "metadata": {},
   "outputs": [
    {
     "name": "stdout",
     "output_type": "stream",
     "text": [
      "Enter first integer: 15\n",
      "Enter second integer: 21\n",
      "15 is not equal to 21\n",
      "15 is less than 21\n",
      "15 is less than or equal than 21\n"
     ]
    }
   ],
   "source": [
    "# read first integer\n",
    "number1 = int(input('Enter first integer: '))\n",
    "\n",
    "# read second integer\n",
    "number2 = int(input('Enter second integer: '))\n",
    "\n",
    "if number1 == number2:\n",
    "    print(number1, 'is equal to', number2)\n",
    "\n",
    "if number1 != number2:\n",
    "    print(number1, 'is not equal to', number2)\n",
    "\n",
    "# Test other Conditions\n",
    "if number1 < number2:\n",
    "    print(number1, 'is less than', number2)\n",
    "\n",
    "if number1 > number2:\n",
    "    print(number1, 'is greater than', number2)\n",
    "\n",
    "if number1 <= number2:\n",
    "    print(number1, 'is less than or equal than', number2)\n",
    "\n",
    "if number1 >= number2:\n",
    "    print(number1, 'is greater than or equal to', number2)"
   ]
  },
  {
   "cell_type": "markdown",
   "id": "22ae5933",
   "metadata": {},
   "source": [
    "#### 2.6.2  Blank Lines\n",
    "* Blank lines and space characters to make code easier to read. \n",
    "* Together, blank lines, space characters and tab characters are known as **white space**. \n",
    "* Python ignores most white space."
   ]
  },
  {
   "cell_type": "markdown",
   "id": "42d6a82e",
   "metadata": {},
   "source": [
    "#### 2.6.3 `Suite Indentation`\n",
    "* Python requires you to indent the statements in suites. \n",
    "* The _Style Guide for Python Code_ recommends four-space indents."
   ]
  },
  {
   "cell_type": "markdown",
   "id": "2a3a2dfe",
   "metadata": {},
   "source": [
    "#### 2.6.4 Confusing == and = \n",
    "* Using the assignment symbol (`=`) instead of the equality operator (`==`) in an `if` statement’s condition is a common syntax error. "
   ]
  },
  {
   "cell_type": "code",
   "execution_count": null,
   "id": "ce107c85",
   "metadata": {},
   "outputs": [],
   "source": []
  },
  {
   "cell_type": "code",
   "execution_count": null,
   "id": "0b4a06ba",
   "metadata": {},
   "outputs": [],
   "source": []
  },
  {
   "cell_type": "markdown",
   "id": "a249d99c",
   "metadata": {
    "slideshow": {
     "slide_type": "slide"
    }
   },
   "source": [
    "## 2.7 Precedence of the Operators We’ve Presented So Far \n",
    "| Operators&nbsp;&nbsp;&nbsp;&nbsp;&nbsp;&nbsp;&nbsp;&nbsp;&nbsp;&nbsp;&nbsp;&nbsp;&nbsp;&nbsp;&nbsp;&nbsp; | Grouping&nbsp;&nbsp;&nbsp;&nbsp;&nbsp;&nbsp;&nbsp;&nbsp;&nbsp; | Type\n",
    "| :-------- | :---- | :----\n",
    "| `()` | left to right | parentheses\n",
    "| `**` | right to left | exponentiation \n",
    "| `*` &nbsp;&nbsp;&nbsp; `/` &nbsp;&nbsp;&nbsp; `//` &nbsp;&nbsp;&nbsp; `%` | left to right | multiplication, true division, floor division, remainder\n",
    "| `+` &nbsp;&nbsp;&nbsp; `–`  | left to right | addition, subtraction\n",
    "| `>` &nbsp;&nbsp;&nbsp; `<=` &nbsp;&nbsp;&nbsp; `<` &nbsp;&nbsp;&nbsp; `>=` | left to right | less than, less than or equal, greater than, greater than or equal\n",
    "| `==` &nbsp;&nbsp;&nbsp; `!=`   | left to right | equal, not equal"
   ]
  },
  {
   "cell_type": "markdown",
   "id": "cf2d3741",
   "metadata": {},
   "source": [
    "## 2.8 Objects and Dynamic Typing\n",
    "* `7` (an integer), `4.1` (a floating-point number) and `'dog'` are all objects. \n",
    "* Every object has a type and a value."
   ]
  },
  {
   "cell_type": "code",
   "execution_count": 39,
   "id": "ca43d08b",
   "metadata": {},
   "outputs": [
    {
     "data": {
      "text/plain": [
       "float"
      ]
     },
     "execution_count": 39,
     "metadata": {},
     "output_type": "execute_result"
    }
   ],
   "source": [
    "type(6.4)"
   ]
  },
  {
   "cell_type": "code",
   "execution_count": 40,
   "id": "9f182b08",
   "metadata": {},
   "outputs": [
    {
     "data": {
      "text/plain": [
       "str"
      ]
     },
     "execution_count": 40,
     "metadata": {},
     "output_type": "execute_result"
    }
   ],
   "source": [
    "type('class')"
   ]
  },
  {
   "cell_type": "markdown",
   "id": "a539146d",
   "metadata": {},
   "source": [
    "### 2.8.1 Variables Refer to Objects\n",
    "* Assigning an object to a variable **binds** (associates) that variable’s name to the object. \n",
    "* Can then use the variable to access the object’s value."
   ]
  },
  {
   "cell_type": "code",
   "execution_count": 41,
   "id": "643b07f5",
   "metadata": {},
   "outputs": [],
   "source": [
    "x=7"
   ]
  },
  {
   "cell_type": "code",
   "execution_count": 42,
   "id": "af0c5041",
   "metadata": {},
   "outputs": [
    {
     "data": {
      "text/plain": [
       "17"
      ]
     },
     "execution_count": 42,
     "metadata": {},
     "output_type": "execute_result"
    }
   ],
   "source": [
    "x+10"
   ]
  },
  {
   "cell_type": "code",
   "execution_count": 43,
   "id": "877846e4",
   "metadata": {},
   "outputs": [
    {
     "data": {
      "text/plain": [
       "7"
      ]
     },
     "execution_count": 43,
     "metadata": {},
     "output_type": "execute_result"
    }
   ],
   "source": [
    "x"
   ]
  },
  {
   "cell_type": "code",
   "execution_count": 44,
   "id": "f102f27a",
   "metadata": {},
   "outputs": [],
   "source": [
    "x=x+17"
   ]
  },
  {
   "cell_type": "code",
   "execution_count": 45,
   "id": "8f77d53a",
   "metadata": {},
   "outputs": [
    {
     "data": {
      "text/plain": [
       "24"
      ]
     },
     "execution_count": 45,
     "metadata": {},
     "output_type": "execute_result"
    }
   ],
   "source": [
    "x"
   ]
  },
  {
   "cell_type": "markdown",
   "id": "338de71e",
   "metadata": {},
   "source": [
    "## 2.9 Basic Descriptive Statistics\n",
    "* In data science, you’ll often use statistics to describe and summarize your data. \n",
    "* Here, we introduce several **descriptive statistics**:\n",
    "    * **minimum**—the smallest value in a collection of values.\n",
    "    * **maximum**—the largest value in a collection of values.\n",
    "    * **range**—the range of values from the minimum to the maximum.\n",
    "    * **count**—the number of values in a collection.\n",
    "    * **sum**—the total of the values in a collection."
   ]
  },
  {
   "cell_type": "markdown",
   "id": "1d503af0",
   "metadata": {},
   "source": [
    "### Problem1: Determining the Minimum of Three Values \n",
    "* Determine the minimum of three values manually in a script that prompts for and inputs three values, uses `if` statements to determine the minimum value, then displays it.\n",
    "\n",
    "#### Indentations in If\n",
    "* Python relies on `indentation` (whitespace at the beginning of a line) to define scope in the code. Other programming languages often use curly-brackets for this purpose."
   ]
  },
  {
   "cell_type": "code",
   "execution_count": 47,
   "id": "581bb527",
   "metadata": {},
   "outputs": [
    {
     "name": "stdout",
     "output_type": "stream",
     "text": [
      "Enter first integer: 25\n",
      "Enter the second integer: 15\n",
      "Enter the third integer: 8\n",
      "Minimum value is 8\n"
     ]
    }
   ],
   "source": [
    "number1 = int(input('Enter first integer: '))\n",
    "# enter number2 and number3\n",
    "number2 = int(input('Enter the second integer: '))\n",
    "number3 = int(input('Enter the third integer: '))\n",
    "\n",
    "# First, assume that number1 contains the smallest value\n",
    "minimum = number1\n",
    "\n",
    "#The first if statement then tests number2 < minimum and if this condition is True assigns number2 to minimum.\n",
    "if number2 < minimum:\n",
    "    minimum = number2\n",
    "\n",
    "#The second if statement then tests number3 < minimum, and if this condition is True assigns number3 to minimum.\n",
    "if number3 < minimum:\n",
    "    minimum = number3\n",
    "\n",
    "print('Minimum value is', minimum)"
   ]
  },
  {
   "cell_type": "markdown",
   "id": "5f3d2e35",
   "metadata": {},
   "source": [
    "### 2.9.1 Functional-Style Programming: Reduction \n",
    "* We introduce various _functional-style programming_ capabilities. \n",
    "* These enable you to write code that can be more concise, clearer and easier to **debug**. \n",
    "* Functions `min` and `max` are examples of a functional-style programming concept called **reduction**&mdash;each reduces a collection of values to a _single_ value. \n",
    "* Other reductions you'll see: sum, average, variance and standard deviation. "
   ]
  },
  {
   "cell_type": "markdown",
   "id": "5cc545d5",
   "metadata": {},
   "source": [
    "#### 2.9.2 Determining the Minimum and Maximum with Built-In Functions `min` and `max` \n",
    "* Python has many built-in functions for performing common tasks. \n",
    "* **`min`** and **`max`** calculate the minimum and maximum, respectively, of a collection of values."
   ]
  },
  {
   "cell_type": "code",
   "execution_count": 48,
   "id": "ffa6a619",
   "metadata": {},
   "outputs": [
    {
     "data": {
      "text/plain": [
       "14"
      ]
     },
     "execution_count": 48,
     "metadata": {},
     "output_type": "execute_result"
    }
   ],
   "source": [
    "min(14, 23, 41)"
   ]
  },
  {
   "cell_type": "code",
   "execution_count": 49,
   "id": "6e444579",
   "metadata": {},
   "outputs": [
    {
     "data": {
      "text/plain": [
       "41"
      ]
     },
     "execution_count": 49,
     "metadata": {},
     "output_type": "execute_result"
    }
   ],
   "source": [
    "max(14, 23, 41)"
   ]
  },
  {
   "cell_type": "markdown",
   "id": "4738d99a",
   "metadata": {},
   "source": [
    "## 2.10 Determining the Range of a Collection of Values \n",
    "* The _range_ of values is simply the minimum through the maximum value. \n",
    "\n",
    "* If you have `100` numbers with a range of 12 through 36, those numbers could be **distributed evenly** over that range. \n",
    "* At the opposite extreme, you could have **clumping** with 99 values of 12 and one 36, or one 12 and 99 values of 36. "
   ]
  },
  {
   "cell_type": "markdown",
   "id": "f36bfb08",
   "metadata": {},
   "source": [
    "------\n",
    "&copy;1992&ndash;2020 by Pearson Education, Inc. All Rights Reserved. This content is based on Chapter 2 of the book [**Intro to Python for Computer Science and Data Science: Learning to Program with AI, Big Data and the Cloud**](https://amzn.to/2VvdnxE).\n",
    "\n"
   ]
  }
 ],
 "metadata": {
  "kernelspec": {
   "display_name": "Python 3",
   "language": "python",
   "name": "python3"
  },
  "language_info": {
   "codemirror_mode": {
    "name": "ipython",
    "version": 3
   },
   "file_extension": ".py",
   "mimetype": "text/x-python",
   "name": "python",
   "nbconvert_exporter": "python",
   "pygments_lexer": "ipython3",
   "version": "3.8.8"
  }
 },
 "nbformat": 4,
 "nbformat_minor": 5
}
